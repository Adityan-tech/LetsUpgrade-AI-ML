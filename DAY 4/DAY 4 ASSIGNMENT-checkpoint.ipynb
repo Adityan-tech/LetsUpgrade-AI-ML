{
 "cells": [
  {
   "cell_type": "code",
   "execution_count": 1,
   "metadata": {},
   "outputs": [],
   "source": [
    "#ASSIGNMENT DAY 4\n"
   ]
  },
  {
   "cell_type": "code",
   "execution_count": 10,
   "metadata": {},
   "outputs": [
    {
     "name": "stdout",
     "output_type": "stream",
     "text": [
      "ADDITION OF C= (17+7j)\n",
      "SUBTRACTION OF D= (-1-5j)\n",
      "MULTIPLICATION OF E= (66+57j)\n",
      "DIVISION OF F= (0.6666666666666666-0.3333333333333333j)\n"
     ]
    }
   ],
   "source": [
    "##Research on whether addition, subtraction, multiplication, division, floor division and modulo\n",
    "##operations be performed on complex numbers. Based on your study, implement a Python\n",
    "##program to demonstrate these operations.\n",
    "\n",
    "a=8+1j\n",
    "b=9+6j\n",
    "c=a+b\n",
    "d=a-b\n",
    "e=a*b\n",
    "f=a/b\n",
    "print(\"ADDITION OF C=\",c)\n",
    "print(\"SUBTRACTION OF D=\",d)\n",
    "print(\"MULTIPLICATION OF E=\",e)\n",
    "print(\"DIVISION OF F=\",f)"
   ]
  },
  {
   "cell_type": "code",
   "execution_count": 8,
   "metadata": {},
   "outputs": [
    {
     "ename": "TypeError",
     "evalue": "can't take floor of complex number.",
     "output_type": "error",
     "traceback": [
      "\u001b[1;31m---------------------------------------------------------------------------\u001b[0m",
      "\u001b[1;31mTypeError\u001b[0m                                 Traceback (most recent call last)",
      "\u001b[1;32m<ipython-input-8-9b7638a48680>\u001b[0m in \u001b[0;36m<module>\u001b[1;34m\u001b[0m\n\u001b[1;32m----> 1\u001b[1;33m \u001b[0mg\u001b[0m\u001b[1;33m=\u001b[0m\u001b[0ma\u001b[0m\u001b[1;33m//\u001b[0m\u001b[0mb\u001b[0m\u001b[1;33m\u001b[0m\u001b[1;33m\u001b[0m\u001b[0m\n\u001b[0m\u001b[0;32m      2\u001b[0m \u001b[0mprint\u001b[0m\u001b[1;33m(\u001b[0m\u001b[1;34m\"FLOOR DIVISION OF G=\"\u001b[0m\u001b[1;33m,\u001b[0m\u001b[0mg\u001b[0m\u001b[1;33m)\u001b[0m\u001b[1;33m\u001b[0m\u001b[1;33m\u001b[0m\u001b[0m\n",
      "\u001b[1;31mTypeError\u001b[0m: can't take floor of complex number."
     ]
    }
   ],
   "source": [
    "##FLOOR DIVISION OPERATION IS NT POSSIBLE \n",
    "g=a//b\n",
    "print(\"FLOOR DIVISION OF G=\",g)"
   ]
  },
  {
   "cell_type": "code",
   "execution_count": 11,
   "metadata": {},
   "outputs": [
    {
     "ename": "TypeError",
     "evalue": "can't mod complex numbers.",
     "output_type": "error",
     "traceback": [
      "\u001b[1;31m---------------------------------------------------------------------------\u001b[0m",
      "\u001b[1;31mTypeError\u001b[0m                                 Traceback (most recent call last)",
      "\u001b[1;32m<ipython-input-11-6d98616fc1c0>\u001b[0m in \u001b[0;36m<module>\u001b[1;34m\u001b[0m\n\u001b[1;32m----> 1\u001b[1;33m \u001b[0mh\u001b[0m\u001b[1;33m=\u001b[0m\u001b[0ma\u001b[0m\u001b[1;33m%\u001b[0m\u001b[0mb\u001b[0m\u001b[1;33m\u001b[0m\u001b[1;33m\u001b[0m\u001b[0m\n\u001b[0m\u001b[0;32m      2\u001b[0m \u001b[0mprint\u001b[0m\u001b[1;33m(\u001b[0m\u001b[1;34m\"MODULAS OF H=\"\u001b[0m\u001b[1;33m,\u001b[0m\u001b[0mh\u001b[0m\u001b[1;33m)\u001b[0m\u001b[1;33m\u001b[0m\u001b[1;33m\u001b[0m\u001b[0m\n",
      "\u001b[1;31mTypeError\u001b[0m: can't mod complex numbers."
     ]
    }
   ],
   "source": [
    "##MODULAS OPERATION IS NT POSSIBLE\n",
    "h=a%b\n",
    "print(\"MODULAS OF H=\",h)"
   ]
  },
  {
   "cell_type": "code",
   "execution_count": 12,
   "metadata": {},
   "outputs": [],
   "source": [
    "##Research on range() functions and its parameters. Create a markdown cell and write in your own\n",
    "##words (no copy-paste from google please) what you understand about it. Implement a small\n",
    "##program of your choice on the same."
   ]
  },
  {
   "cell_type": "code",
   "execution_count": 14,
   "metadata": {},
   "outputs": [],
   "source": [
    "##The range() function in Python can take three arguments. First one is START , second is STOP and third is STEP. In the START argument the lower limit sequence is obtained. In the STOP argument the upper limit sequence is obtained. In the STEP argument the difference between the upper limit and lower limit is obtained."
   ]
  },
  {
   "cell_type": "code",
   "execution_count": 17,
   "metadata": {},
   "outputs": [
    {
     "name": "stdout",
     "output_type": "stream",
     "text": [
      "Printing All odd  numbers between 2 and 10 using range() function\n",
      "3, 6, "
     ]
    }
   ],
   "source": [
    "print(\"Printing All odd  numbers between 2 and 10 using range() function\")\n",
    "for i in range(3, 9, 3):\n",
    "    print(i, end=', ')"
   ]
  },
  {
   "cell_type": "code",
   "execution_count": 18,
   "metadata": {},
   "outputs": [],
   "source": [
    "##Consider two numbers. Perform their subtraction and if the result of subtraction is greater than\n",
    "##25, print their multiplication result else print their division result.\n"
   ]
  },
  {
   "cell_type": "code",
   "execution_count": 23,
   "metadata": {},
   "outputs": [
    {
     "name": "stdout",
     "output_type": "stream",
     "text": [
      "SUBTRACTION OF C= 21\n",
      "DIVISION OF C= 1.2658227848101267\n"
     ]
    }
   ],
   "source": [
    "a=100\n",
    "b=79\n",
    "c=a-b\n",
    "print(\"SUBTRACTION OF C=\",c)\n",
    "if c>25:\n",
    "    print(\"MULTIPLICATION F C=\",a*b)\n",
    "else:\n",
    "    print(\"DIVISION OF C=\",a/b)\n",
    "\n"
   ]
  },
  {
   "cell_type": "code",
   "execution_count": 24,
   "metadata": {},
   "outputs": [],
   "source": [
    "##Consider a list of 10 elements of integer values. If the number in the list is divisible by 2, print the\n",
    "##result as \"square of that number minus 2\".\n"
   ]
  },
  {
   "cell_type": "code",
   "execution_count": 30,
   "metadata": {},
   "outputs": [
    {
     "name": "stdout",
     "output_type": "stream",
     "text": [
      "SQUARE OF 2 MINUS OF 2 2\n",
      "SQUARE OF 4 MINUS OF 2 14\n",
      "SQUARE OF 6 MINUS OF 2 34\n",
      "SQUARE OF 8 MINUS OF 2 62\n",
      "SQUARE OF 10 MINUS OF 2 98\n"
     ]
    }
   ],
   "source": [
    "l=[1,2,3,4,5,6,7,8,9,10]\n",
    "for i in l:\n",
    "    if i%2==0:\n",
    "        a = i**2-2\n",
    "        print(\"SQUARE OF\",i,\"MINUS OF 2\",a)"
   ]
  },
  {
   "cell_type": "code",
   "execution_count": 31,
   "metadata": {},
   "outputs": [
    {
     "name": "stdout",
     "output_type": "stream",
     "text": [
      "Numbers when divided by 2 gives the value greater than 7 are as follows 78\n",
      "Numbers when divided by 2 gives the value greater than 7 are as follows 100\n",
      "Numbers when divided by 2 gives the value greater than 7 are as follows 58\n",
      "Numbers when divided by 2 gives the value greater than 7 are as follows 96\n",
      "Numbers when divided by 2 gives the value greater than 7 are as follows 420\n"
     ]
    }
   ],
   "source": [
    "##Consider a list of 10 elements. Print all the elements in the list which are greater than 7 when that\n",
    "##number is divided 2.\n",
    "l=[1,12,78,100,58,96,420]\n",
    "for i in l:\n",
    "    if i/2>7:\n",
    "        print(\"Numbers when divided by 2 gives the value greater than 7 are as follows\",i)"
   ]
  }
 ],
 "metadata": {
  "kernelspec": {
   "display_name": "Python 3",
   "language": "python",
   "name": "python3"
  },
  "language_info": {
   "codemirror_mode": {
    "name": "ipython",
    "version": 3
   },
   "file_extension": ".py",
   "mimetype": "text/x-python",
   "name": "python",
   "nbconvert_exporter": "python",
   "pygments_lexer": "ipython3",
   "version": "3.7.4"
  }
 },
 "nbformat": 4,
 "nbformat_minor": 2
}
